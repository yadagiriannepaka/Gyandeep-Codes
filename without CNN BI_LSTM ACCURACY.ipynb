{
 "cells": [
  {
   "cell_type": "code",
   "execution_count": 1,
   "id": "35569171-7fc8-430f-a04c-36fdb7f83920",
   "metadata": {},
   "outputs": [],
   "source": [
    "import os\n",
    "os.environ['CUDA_VISIBLE_DEVICES'] = ''"
   ]
  },
  {
   "cell_type": "code",
   "execution_count": 2,
   "id": "b6964fcb-d378-408f-a331-4c85e59b7bd0",
   "metadata": {},
   "outputs": [
    {
     "name": "stderr",
     "output_type": "stream",
     "text": [
      "2024-04-29 15:16:03.595954: E external/local_xla/xla/stream_executor/cuda/cuda_dnn.cc:9261] Unable to register cuDNN factory: Attempting to register factory for plugin cuDNN when one has already been registered\n",
      "2024-04-29 15:16:03.595987: E external/local_xla/xla/stream_executor/cuda/cuda_fft.cc:607] Unable to register cuFFT factory: Attempting to register factory for plugin cuFFT when one has already been registered\n",
      "2024-04-29 15:16:03.597004: E external/local_xla/xla/stream_executor/cuda/cuda_blas.cc:1515] Unable to register cuBLAS factory: Attempting to register factory for plugin cuBLAS when one has already been registered\n",
      "2024-04-29 15:16:03.602715: I tensorflow/core/platform/cpu_feature_guard.cc:182] This TensorFlow binary is optimized to use available CPU instructions in performance-critical operations.\n",
      "To enable the following instructions: AVX2 AVX512F FMA, in other operations, rebuild TensorFlow with the appropriate compiler flags.\n",
      "2024-04-29 15:16:04.240501: W tensorflow/compiler/tf2tensorrt/utils/py_utils.cc:38] TF-TRT Warning: Could not find TensorRT\n"
     ]
    }
   ],
   "source": [
    "import pandas as pd\n",
    "import tensorflow as tf\n",
    "import numpy as np\n",
    "import seaborn as sns\n",
    "from sklearn.model_selection import train_test_split\n",
    "from sklearn.feature_extraction.text import TfidfVectorizer\n",
    "# from skmultilearn.adapt import MLkNN\n",
    "import sklearn.metrics as metrics\n",
    "from sklearn.metrics import hamming_loss, accuracy_score\n",
    "from sklearn.metrics import confusion_matrix\n",
    "from sklearn.model_selection import StratifiedKFold\n",
    "from sklearn.metrics import multilabel_confusion_matrix\n",
    "import os"
   ]
  },
  {
   "cell_type": "code",
   "execution_count": 3,
   "id": "515bcded-8953-41b4-9128-e78a48632a06",
   "metadata": {},
   "outputs": [],
   "source": [
    "d2= pd.read_csv('/home/yadagiri/updated dataset.csv')"
   ]
  },
  {
   "cell_type": "code",
   "execution_count": 4,
   "id": "47f9b7e0-3415-440e-8648-010566cd6d0d",
   "metadata": {},
   "outputs": [
    {
     "data": {
      "text/html": [
       "<div>\n",
       "<style scoped>\n",
       "    .dataframe tbody tr th:only-of-type {\n",
       "        vertical-align: middle;\n",
       "    }\n",
       "\n",
       "    .dataframe tbody tr th {\n",
       "        vertical-align: top;\n",
       "    }\n",
       "\n",
       "    .dataframe thead th {\n",
       "        text-align: right;\n",
       "    }\n",
       "</style>\n",
       "<table border=\"1\" class=\"dataframe\">\n",
       "  <thead>\n",
       "    <tr style=\"text-align: right;\">\n",
       "      <th></th>\n",
       "      <th>id</th>\n",
       "      <th>Category</th>\n",
       "      <th>text</th>\n",
       "      <th>Vocabulary</th>\n",
       "      <th>Noun Count</th>\n",
       "      <th>Verb Count</th>\n",
       "      <th>AUX Count</th>\n",
       "      <th>NUM Count</th>\n",
       "      <th>PRON Count</th>\n",
       "      <th>ADV Count</th>\n",
       "      <th>INTJ Count</th>\n",
       "      <th>PART Count</th>\n",
       "      <th>label</th>\n",
       "    </tr>\n",
       "  </thead>\n",
       "  <tbody>\n",
       "    <tr>\n",
       "      <th>0</th>\n",
       "      <td>articles-cleaned-truncated/news-2021-01-01-202...</td>\n",
       "      <td>Human</td>\n",
       "      <td>Inaugural Address by President Joseph R. Biden...</td>\n",
       "      <td>338</td>\n",
       "      <td>127</td>\n",
       "      <td>104</td>\n",
       "      <td>16</td>\n",
       "      <td>6</td>\n",
       "      <td>62</td>\n",
       "      <td>31</td>\n",
       "      <td>0</td>\n",
       "      <td>2</td>\n",
       "      <td>0</td>\n",
       "    </tr>\n",
       "    <tr>\n",
       "      <th>1</th>\n",
       "      <td>articles-cleaned-truncated/news-2021-01-01-202...</td>\n",
       "      <td>Human</td>\n",
       "      <td>Fact check: Biden inauguration impacted by pan...</td>\n",
       "      <td>228</td>\n",
       "      <td>99</td>\n",
       "      <td>58</td>\n",
       "      <td>10</td>\n",
       "      <td>6</td>\n",
       "      <td>8</td>\n",
       "      <td>20</td>\n",
       "      <td>0</td>\n",
       "      <td>0</td>\n",
       "      <td>0</td>\n",
       "    </tr>\n",
       "    <tr>\n",
       "      <th>2</th>\n",
       "      <td>articles-cleaned-truncated/news-2021-01-01-202...</td>\n",
       "      <td>Human</td>\n",
       "      <td>Highlights from Joe Biden's 2021 inauguration\\...</td>\n",
       "      <td>295</td>\n",
       "      <td>107</td>\n",
       "      <td>79</td>\n",
       "      <td>0</td>\n",
       "      <td>15</td>\n",
       "      <td>27</td>\n",
       "      <td>27</td>\n",
       "      <td>0</td>\n",
       "      <td>1</td>\n",
       "      <td>0</td>\n",
       "    </tr>\n",
       "    <tr>\n",
       "      <th>3</th>\n",
       "      <td>articles-cleaned-truncated/news-2021-01-01-202...</td>\n",
       "      <td>Human</td>\n",
       "      <td>Biden takes the helm, appeals for unity to tak...</td>\n",
       "      <td>331</td>\n",
       "      <td>129</td>\n",
       "      <td>102</td>\n",
       "      <td>3</td>\n",
       "      <td>7</td>\n",
       "      <td>21</td>\n",
       "      <td>26</td>\n",
       "      <td>0</td>\n",
       "      <td>2</td>\n",
       "      <td>0</td>\n",
       "    </tr>\n",
       "    <tr>\n",
       "      <th>4</th>\n",
       "      <td>articles-cleaned-truncated/news-2021-01-01-202...</td>\n",
       "      <td>Human</td>\n",
       "      <td>'The Hill We Climb': Read Amanda Gorman's inau...</td>\n",
       "      <td>385</td>\n",
       "      <td>125</td>\n",
       "      <td>146</td>\n",
       "      <td>30</td>\n",
       "      <td>7</td>\n",
       "      <td>103</td>\n",
       "      <td>54</td>\n",
       "      <td>0</td>\n",
       "      <td>3</td>\n",
       "      <td>0</td>\n",
       "    </tr>\n",
       "    <tr>\n",
       "      <th>...</th>\n",
       "      <td>...</td>\n",
       "      <td>...</td>\n",
       "      <td>...</td>\n",
       "      <td>...</td>\n",
       "      <td>...</td>\n",
       "      <td>...</td>\n",
       "      <td>...</td>\n",
       "      <td>...</td>\n",
       "      <td>...</td>\n",
       "      <td>...</td>\n",
       "      <td>...</td>\n",
       "      <td>...</td>\n",
       "      <td>...</td>\n",
       "    </tr>\n",
       "    <tr>\n",
       "      <th>15185</th>\n",
       "      <td>vicgalle-gpt2-open-instruct-v1/news-2021-01-01...</td>\n",
       "      <td>vicgalle-gpt2</td>\n",
       "      <td>'The Disappearance of Gabby Petito' – A Compre...</td>\n",
       "      <td>198</td>\n",
       "      <td>91</td>\n",
       "      <td>65</td>\n",
       "      <td>3</td>\n",
       "      <td>7</td>\n",
       "      <td>27</td>\n",
       "      <td>3</td>\n",
       "      <td>0</td>\n",
       "      <td>2</td>\n",
       "      <td>1</td>\n",
       "    </tr>\n",
       "    <tr>\n",
       "      <th>15186</th>\n",
       "      <td>vicgalle-gpt2-open-instruct-v1/news-2021-01-01...</td>\n",
       "      <td>vicgalle-gpt2</td>\n",
       "      <td>Utah State Police Search for Gabby Petito, Tra...</td>\n",
       "      <td>91</td>\n",
       "      <td>52</td>\n",
       "      <td>46</td>\n",
       "      <td>0</td>\n",
       "      <td>13</td>\n",
       "      <td>10</td>\n",
       "      <td>2</td>\n",
       "      <td>0</td>\n",
       "      <td>1</td>\n",
       "      <td>1</td>\n",
       "    </tr>\n",
       "    <tr>\n",
       "      <th>15187</th>\n",
       "      <td>vicgalle-gpt2-open-instruct-v1/news-2021-01-01...</td>\n",
       "      <td>vicgalle-gpt2</td>\n",
       "      <td>McKenna's Lost Friend: Debunking the Evidence ...</td>\n",
       "      <td>132</td>\n",
       "      <td>87</td>\n",
       "      <td>101</td>\n",
       "      <td>1</td>\n",
       "      <td>3</td>\n",
       "      <td>47</td>\n",
       "      <td>9</td>\n",
       "      <td>0</td>\n",
       "      <td>6</td>\n",
       "      <td>1</td>\n",
       "    </tr>\n",
       "    <tr>\n",
       "      <th>15188</th>\n",
       "      <td>vicgalle-gpt2-open-instruct-v1/news-2021-01-01...</td>\n",
       "      <td>vicgalle-gpt2</td>\n",
       "      <td>\"Gunshots Found in Florida Nature Preserve: A ...</td>\n",
       "      <td>115</td>\n",
       "      <td>101</td>\n",
       "      <td>67</td>\n",
       "      <td>5</td>\n",
       "      <td>0</td>\n",
       "      <td>12</td>\n",
       "      <td>10</td>\n",
       "      <td>0</td>\n",
       "      <td>1</td>\n",
       "      <td>1</td>\n",
       "    </tr>\n",
       "    <tr>\n",
       "      <th>15189</th>\n",
       "      <td>vicgalle-gpt2-open-instruct-v1/news-2021-01-01...</td>\n",
       "      <td>vicgalle-gpt2</td>\n",
       "      <td>A Very Kind and Sweet Woman in Long Island Sho...</td>\n",
       "      <td>80</td>\n",
       "      <td>32</td>\n",
       "      <td>37</td>\n",
       "      <td>2</td>\n",
       "      <td>0</td>\n",
       "      <td>24</td>\n",
       "      <td>20</td>\n",
       "      <td>0</td>\n",
       "      <td>0</td>\n",
       "      <td>1</td>\n",
       "    </tr>\n",
       "  </tbody>\n",
       "</table>\n",
       "<p>15190 rows × 13 columns</p>\n",
       "</div>"
      ],
      "text/plain": [
       "                                                      id       Category  \\\n",
       "0      articles-cleaned-truncated/news-2021-01-01-202...          Human   \n",
       "1      articles-cleaned-truncated/news-2021-01-01-202...          Human   \n",
       "2      articles-cleaned-truncated/news-2021-01-01-202...          Human   \n",
       "3      articles-cleaned-truncated/news-2021-01-01-202...          Human   \n",
       "4      articles-cleaned-truncated/news-2021-01-01-202...          Human   \n",
       "...                                                  ...            ...   \n",
       "15185  vicgalle-gpt2-open-instruct-v1/news-2021-01-01...  vicgalle-gpt2   \n",
       "15186  vicgalle-gpt2-open-instruct-v1/news-2021-01-01...  vicgalle-gpt2   \n",
       "15187  vicgalle-gpt2-open-instruct-v1/news-2021-01-01...  vicgalle-gpt2   \n",
       "15188  vicgalle-gpt2-open-instruct-v1/news-2021-01-01...  vicgalle-gpt2   \n",
       "15189  vicgalle-gpt2-open-instruct-v1/news-2021-01-01...  vicgalle-gpt2   \n",
       "\n",
       "                                                    text  Vocabulary  \\\n",
       "0      Inaugural Address by President Joseph R. Biden...         338   \n",
       "1      Fact check: Biden inauguration impacted by pan...         228   \n",
       "2      Highlights from Joe Biden's 2021 inauguration\\...         295   \n",
       "3      Biden takes the helm, appeals for unity to tak...         331   \n",
       "4      'The Hill We Climb': Read Amanda Gorman's inau...         385   \n",
       "...                                                  ...         ...   \n",
       "15185  'The Disappearance of Gabby Petito' – A Compre...         198   \n",
       "15186  Utah State Police Search for Gabby Petito, Tra...          91   \n",
       "15187  McKenna's Lost Friend: Debunking the Evidence ...         132   \n",
       "15188  \"Gunshots Found in Florida Nature Preserve: A ...         115   \n",
       "15189  A Very Kind and Sweet Woman in Long Island Sho...          80   \n",
       "\n",
       "       Noun Count  Verb Count  AUX Count  NUM Count  PRON Count  ADV Count  \\\n",
       "0             127         104         16          6          62         31   \n",
       "1              99          58         10          6           8         20   \n",
       "2             107          79          0         15          27         27   \n",
       "3             129         102          3          7          21         26   \n",
       "4             125         146         30          7         103         54   \n",
       "...           ...         ...        ...        ...         ...        ...   \n",
       "15185          91          65          3          7          27          3   \n",
       "15186          52          46          0         13          10          2   \n",
       "15187          87         101          1          3          47          9   \n",
       "15188         101          67          5          0          12         10   \n",
       "15189          32          37          2          0          24         20   \n",
       "\n",
       "       INTJ Count  PART Count  label  \n",
       "0               0           2      0  \n",
       "1               0           0      0  \n",
       "2               0           1      0  \n",
       "3               0           2      0  \n",
       "4               0           3      0  \n",
       "...           ...         ...    ...  \n",
       "15185           0           2      1  \n",
       "15186           0           1      1  \n",
       "15187           0           6      1  \n",
       "15188           0           1      1  \n",
       "15189           0           0      1  \n",
       "\n",
       "[15190 rows x 13 columns]"
      ]
     },
     "execution_count": 4,
     "metadata": {},
     "output_type": "execute_result"
    }
   ],
   "source": [
    "d2"
   ]
  },
  {
   "cell_type": "code",
   "execution_count": 5,
   "id": "9329842a-9774-4c77-aa0a-a7a8e75d042e",
   "metadata": {},
   "outputs": [
    {
     "name": "stdout",
     "output_type": "stream",
     "text": [
      "(15190, 13)\n"
     ]
    }
   ],
   "source": [
    "print(d2.shape)"
   ]
  },
  {
   "cell_type": "code",
   "execution_count": 6,
   "id": "2f820cf8-c0c9-48ba-89cf-31e2f9197e75",
   "metadata": {},
   "outputs": [
    {
     "name": "stdout",
     "output_type": "stream",
     "text": [
      "id            0\n",
      "Category      0\n",
      "text          0\n",
      "Vocabulary    0\n",
      "Noun Count    0\n",
      "Verb Count    0\n",
      "AUX Count     0\n",
      "NUM Count     0\n",
      "PRON Count    0\n",
      "ADV Count     0\n",
      "INTJ Count    0\n",
      "PART Count    0\n",
      "label         0\n",
      "dtype: int64\n"
     ]
    }
   ],
   "source": [
    "print(d2.isnull().sum())"
   ]
  },
  {
   "cell_type": "raw",
   "id": "5c3207cf-4dba-4124-8e9b-4581b4a4c0f1",
   "metadata": {},
   "source": [
    "word preprocessing"
   ]
  },
  {
   "cell_type": "code",
   "execution_count": 7,
   "id": "028a8382-1ed8-47b0-8882-1188d9fbffc5",
   "metadata": {},
   "outputs": [],
   "source": [
    "num_folds = 5\n",
    "kf = StratifiedKFold(n_splits=num_folds, shuffle=True, random_state=42)"
   ]
  },
  {
   "cell_type": "code",
   "execution_count": 8,
   "id": "222bf4c2-8062-442e-b9a3-955da3919b7c",
   "metadata": {},
   "outputs": [],
   "source": [
    "X = list(d2['text'])\n",
    "#y = np.asarray(d1[d1.columns[1:]])\n",
    "y_data = d2[d2.columns[12:13]]\n",
    "y = y_data.values"
   ]
  },
  {
   "cell_type": "code",
   "execution_count": 9,
   "id": "4ea647ea-48be-4301-afd4-ebce4b8cb915",
   "metadata": {},
   "outputs": [],
   "source": [
    "#Model CNN & Bi-LSTM\n",
    "import keras\n",
    "from keras.preprocessing.text import one_hot\n",
    "from tensorflow.keras.preprocessing.text import one_hot\n",
    "from keras.utils import pad_sequences\n",
    "#from keras_preprocessing.sequence import pad_sequences\n",
    "from keras.models import Sequential\n",
    "from keras.layers import LSTM\n",
    "# from keras.layers.recurrent import LSTM\n",
    "# from keras.layers.core import Activation, Dropout, Dense\n",
    "from keras.layers import LSTM, Activation, Dropout, Dense, Flatten, Bidirectional, GRU, concatenate, SpatialDropout1D\n",
    "\n",
    "from keras.layers import Flatten, LSTM\n",
    "from keras.layers import Bidirectional,GRU,concatenate,SpatialDropout1D\n",
    "from keras.layers import GlobalMaxPooling1D,GlobalAveragePooling1D,Conv1D\n",
    "from keras.models import Model\n",
    "from keras.layers import Embedding\n",
    "from sklearn.model_selection import train_test_split\n",
    "from keras.preprocessing.text import Tokenizer\n",
    "from keras.layers import Input\n",
    "from keras.layers import Concatenate\n",
    "import matplotlib.pyplot as plt\n",
    "from keras import layers\n",
    "from keras.optimizers import Adam,SGD,RMSprop\n",
    "from keras.losses import MeanSquaredError\n",
    "######## Textual Features for Embedding ###################\n",
    "max_len = 100\n",
    "# max_features = 10000\n",
    "max_features = 4479\n",
    "embed_size = 300\n",
    "tokenizer = Tokenizer(num_words=max_features)\n",
    "tokenizer.fit_on_texts(list(X))\n",
    "X = tokenizer.texts_to_sequences(X)\n",
    "X = pad_sequences(X, padding='post', maxlen=max_len)"
   ]
  },
  {
   "cell_type": "code",
   "execution_count": 10,
   "id": "990df231-d6b8-4ef8-8165-bbcc3ebca0ef",
   "metadata": {},
   "outputs": [
    {
     "data": {
      "text/plain": [
       "array([[0],\n",
       "       [0],\n",
       "       [0],\n",
       "       ...,\n",
       "       [1],\n",
       "       [1],\n",
       "       [1]])"
      ]
     },
     "execution_count": 10,
     "metadata": {},
     "output_type": "execute_result"
    }
   ],
   "source": [
    "y"
   ]
  },
  {
   "cell_type": "code",
   "execution_count": 11,
   "id": "d85a119b-5cb1-412d-b430-5be1343271f3",
   "metadata": {},
   "outputs": [
    {
     "name": "stderr",
     "output_type": "stream",
     "text": [
      "/home/yadagiri/anaconda3/lib/python3.11/site-packages/sklearn/preprocessing/_label.py:114: DataConversionWarning: A column-vector y was passed when a 1d array was expected. Please change the shape of y to (n_samples, ), for example using ravel().\n",
      "  y = column_or_1d(y, warn=True)\n"
     ]
    },
    {
     "data": {
      "text/plain": [
       "array([0, 0, 0, ..., 1, 1, 1])"
      ]
     },
     "execution_count": 11,
     "metadata": {},
     "output_type": "execute_result"
    }
   ],
   "source": [
    "######### Label Encoding for y_train & y_test################\n",
    "from sklearn.preprocessing import LabelEncoder\n",
    "\n",
    "label_encoder = LabelEncoder()\n",
    "y = label_encoder.fit_transform(y)\n",
    "y"
   ]
  },
  {
   "cell_type": "code",
   "execution_count": 12,
   "id": "8eee617d-329c-4abe-99ae-5e4d754b47e1",
   "metadata": {},
   "outputs": [
    {
     "data": {
      "text/plain": [
       "array([[1., 0.],\n",
       "       [1., 0.],\n",
       "       [1., 0.],\n",
       "       ...,\n",
       "       [0., 1.],\n",
       "       [0., 1.],\n",
       "       [0., 1.]], dtype=float32)"
      ]
     },
     "execution_count": 12,
     "metadata": {},
     "output_type": "execute_result"
    }
   ],
   "source": [
    "from keras.utils import to_categorical\n",
    "y = to_categorical(y, num_classes=2)\n",
    "y"
   ]
  },
  {
   "cell_type": "code",
   "execution_count": 13,
   "id": "8c9d220b-ecbb-4952-90cf-39bc15bf87c3",
   "metadata": {},
   "outputs": [],
   "source": [
    "from numpy import array\n",
    "from numpy import asarray\n",
    "from numpy import zeros\n",
    "\n",
    "embeddings_dictionary = dict()\n",
    "\n",
    "glove_file = open('/home/yadagiri/glove.6B.300d.txt', encoding=\"utf8\") ## using pre-trained or self-trained embeddings ##\n",
    "\n",
    "for line in glove_file:\n",
    "    records = line.split()\n",
    "    word = records[0]\n",
    "    vector_dimensions = asarray(records[1:], dtype='float32')\n",
    "    embeddings_dictionary[word] = vector_dimensions\n",
    "glove_file.close()\n",
    "\n",
    "vocab_size = len(tokenizer.word_index) + 1  ## total distinct words is the Vocabulary ##\n",
    "word_index = tokenizer.word_index\n",
    "num_words = min(max_features,len(word_index)+1)\n",
    "\n",
    "embedding_matrix = zeros((num_words, embed_size)) ## has to be similar to glove dimension ##\n",
    "for word, index in tokenizer.word_index.items():\n",
    "    if index >= max_features:\n",
    "        continue\n",
    "    embedding_vector = embeddings_dictionary.get(word)\n",
    "    if embedding_vector is not None:\n",
    "        embedding_matrix[index] = embedding_vector"
   ]
  },
  {
   "cell_type": "code",
   "execution_count": 14,
   "id": "1ead5ed1-0e46-4db9-b9b9-96c49a978624",
   "metadata": {},
   "outputs": [
    {
     "name": "stderr",
     "output_type": "stream",
     "text": [
      "2024-04-29 15:16:28.748758: E external/local_xla/xla/stream_executor/cuda/cuda_driver.cc:274] failed call to cuInit: CUDA_ERROR_NO_DEVICE: no CUDA-capable device is detected\n",
      "2024-04-29 15:16:28.748784: I external/local_xla/xla/stream_executor/cuda/cuda_diagnostics.cc:129] retrieving CUDA diagnostic information for host: nits-lab\n",
      "2024-04-29 15:16:28.748791: I external/local_xla/xla/stream_executor/cuda/cuda_diagnostics.cc:136] hostname: nits-lab\n",
      "2024-04-29 15:16:28.748947: I external/local_xla/xla/stream_executor/cuda/cuda_diagnostics.cc:159] libcuda reported version is: 535.171.4\n",
      "2024-04-29 15:16:28.748969: I external/local_xla/xla/stream_executor/cuda/cuda_diagnostics.cc:163] kernel reported version is: 535.171.4\n",
      "2024-04-29 15:16:28.748973: I external/local_xla/xla/stream_executor/cuda/cuda_diagnostics.cc:241] kernel version seems to match DSO: 535.171.4\n"
     ]
    },
    {
     "name": "stdout",
     "output_type": "stream",
     "text": [
      "Epoch 1/3\n",
      "95/95 [==============================] - 18s 146ms/step - loss: 0.2273 - accuracy: 0.9233 - val_loss: 0.1909 - val_accuracy: 0.9273\n",
      "Epoch 2/3\n",
      "95/95 [==============================] - 13s 140ms/step - loss: 0.1704 - accuracy: 0.9320 - val_loss: 0.1617 - val_accuracy: 0.9332\n",
      "Epoch 3/3\n",
      "95/95 [==============================] - 13s 141ms/step - loss: 0.1589 - accuracy: 0.9352 - val_loss: 0.1550 - val_accuracy: 0.9365\n",
      "95/95 [==============================] - 2s 19ms/step\n",
      "Fold 1 - Classification Report:\n",
      "              precision    recall  f1-score   support\n",
      "\n",
      "       Human       0.68      0.24      0.35       220\n",
      "          AI       0.94      0.99      0.97      2818\n",
      "\n",
      "    accuracy                           0.94      3038\n",
      "   macro avg       0.81      0.61      0.66      3038\n",
      "weighted avg       0.92      0.94      0.92      3038\n",
      "\n",
      "\n",
      "Epoch 1/3\n",
      "95/95 [==============================] - 17s 145ms/step - loss: 0.2219 - accuracy: 0.9250 - val_loss: 0.1786 - val_accuracy: 0.9345\n",
      "Epoch 2/3\n",
      "95/95 [==============================] - 14s 143ms/step - loss: 0.1734 - accuracy: 0.9297 - val_loss: 0.1567 - val_accuracy: 0.9332\n",
      "Epoch 3/3\n",
      "95/95 [==============================] - 13s 140ms/step - loss: 0.1582 - accuracy: 0.9343 - val_loss: 0.1465 - val_accuracy: 0.9408\n",
      "95/95 [==============================] - 2s 20ms/step\n",
      "Fold 2 - Classification Report:\n",
      "              precision    recall  f1-score   support\n",
      "\n",
      "       Human       0.65      0.25      0.37       204\n",
      "          AI       0.95      0.99      0.97      2834\n",
      "\n",
      "    accuracy                           0.94      3038\n",
      "   macro avg       0.80      0.62      0.67      3038\n",
      "weighted avg       0.93      0.94      0.93      3038\n",
      "\n",
      "\n",
      "Epoch 1/3\n",
      "95/95 [==============================] - 17s 144ms/step - loss: 0.2415 - accuracy: 0.9206 - val_loss: 0.1731 - val_accuracy: 0.9236\n",
      "Epoch 2/3\n",
      "95/95 [==============================] - 13s 139ms/step - loss: 0.1770 - accuracy: 0.9299 - val_loss: 0.1584 - val_accuracy: 0.9329\n",
      "Epoch 3/3\n",
      "95/95 [==============================] - 13s 140ms/step - loss: 0.1616 - accuracy: 0.9323 - val_loss: 0.1535 - val_accuracy: 0.9381\n",
      "95/95 [==============================] - 2s 19ms/step\n",
      "Fold 3 - Classification Report:\n",
      "              precision    recall  f1-score   support\n",
      "\n",
      "       Human       0.68      0.35      0.46       231\n",
      "          AI       0.95      0.99      0.97      2807\n",
      "\n",
      "    accuracy                           0.94      3038\n",
      "   macro avg       0.82      0.67      0.71      3038\n",
      "weighted avg       0.93      0.94      0.93      3038\n",
      "\n",
      "\n",
      "Epoch 1/3\n",
      "95/95 [==============================] - 17s 144ms/step - loss: 0.2193 - accuracy: 0.9234 - val_loss: 0.1699 - val_accuracy: 0.9299\n",
      "Epoch 2/3\n",
      "95/95 [==============================] - 13s 140ms/step - loss: 0.1692 - accuracy: 0.9311 - val_loss: 0.1457 - val_accuracy: 0.9391\n",
      "Epoch 3/3\n",
      "95/95 [==============================] - 13s 140ms/step - loss: 0.1626 - accuracy: 0.9340 - val_loss: 0.1811 - val_accuracy: 0.9312\n",
      "95/95 [==============================] - 2s 18ms/step\n",
      "Fold 4 - Classification Report:\n",
      "              precision    recall  f1-score   support\n",
      "\n",
      "       Human       0.70      0.03      0.06       213\n",
      "          AI       0.93      1.00      0.96      2825\n",
      "\n",
      "    accuracy                           0.93      3038\n",
      "   macro avg       0.82      0.52      0.51      3038\n",
      "weighted avg       0.92      0.93      0.90      3038\n",
      "\n",
      "\n",
      "Epoch 1/3\n",
      "95/95 [==============================] - 18s 147ms/step - loss: 0.2322 - accuracy: 0.9243 - val_loss: 0.1666 - val_accuracy: 0.9325\n",
      "Epoch 2/3\n",
      "95/95 [==============================] - 14s 146ms/step - loss: 0.1692 - accuracy: 0.9314 - val_loss: 0.1493 - val_accuracy: 0.9338\n",
      "Epoch 3/3\n",
      "95/95 [==============================] - 14s 150ms/step - loss: 0.1588 - accuracy: 0.9339 - val_loss: 0.1535 - val_accuracy: 0.9332\n",
      "95/95 [==============================] - 2s 18ms/step\n",
      "Fold 5 - Classification Report:\n",
      "              precision    recall  f1-score   support\n",
      "\n",
      "       Human       0.56      0.33      0.41       219\n",
      "          AI       0.95      0.98      0.96      2819\n",
      "\n",
      "    accuracy                           0.93      3038\n",
      "   macro avg       0.76      0.65      0.69      3038\n",
      "weighted avg       0.92      0.93      0.92      3038\n",
      "\n",
      "\n",
      "Average Classification Report Across 5 Folds:\n",
      "Average Precision: 0.92\n",
      "Average Recall: 0.94\n",
      "Average F1-Score: 0.92\n"
     ]
    }
   ],
   "source": [
    "import numpy as np\n",
    "from tensorflow.keras.preprocessing.text import Tokenizer\n",
    "from tensorflow.keras.preprocessing.sequence import pad_sequences\n",
    "from tensorflow.keras.models import Sequential\n",
    "from tensorflow.keras.layers import Embedding, Bidirectional, LSTM, Dense, SpatialDropout1D, GlobalAveragePooling1D, Dropout\n",
    "from tensorflow.keras.utils import to_categorical\n",
    "from sklearn.model_selection import KFold\n",
    "from sklearn.metrics import classification_report\n",
    "\n",
    "# Load your data, assuming you have a DataFrame 'df' with 'text' and 'label' columns\n",
    "# Ensure that the 'label' column contains 'neither,' 'racist,' or 'sexist'\n",
    "\n",
    "# Split your data into features (X) and labels (y)\n",
    "# X = d2['text'].values\n",
    "# y = d2['label'].values\n",
    "\n",
    "# Define the number of folds for cross-validation\n",
    "n_splits = 5\n",
    "kf = KFold(n_splits=n_splits, shuffle=True, random_state=42)\n",
    "\n",
    "# Initialize a list to store classification reports for each fold\n",
    "classification_reports = []\n",
    "# Initialize lists to store metrics for each fold\n",
    "precision_list = []\n",
    "recall_list = []\n",
    "f1_score_list = []\n",
    "\n",
    "# # Define the maximum number of words to consider in the text\n",
    "# max_words = 10000\n",
    "\n",
    "# # Tokenize the text data\n",
    "# tokenizer = Tokenizer(num_words=max_words, oov_token=\"<OOV>\")\n",
    "# tokenizer.fit_on_texts(X)\n",
    "\n",
    "# # Convert text data to sequences\n",
    "# X_sequences = tokenizer.texts_to_sequences(X)\n",
    "\n",
    "# # Define the maximum sequence length (adjust as needed)\n",
    "# max_sequence_length = 100\n",
    "\n",
    "# Convert labels to categorical (one-hot encoding)\n",
    "# y_encoded = to_categorical(y, num_classes=3)\n",
    "\n",
    "# Iterate through the folds\n",
    "# import pdb;pdb.set_trace()\n",
    "for fold, (train_index, val_index) in enumerate(kf.split(X, y)):\n",
    "    X_train, X_val = X[train_index], X[val_index]\n",
    "    y_train, y_val = y[train_index], y[val_index]\n",
    "\n",
    "    # Define the model architecture\n",
    "    sequence_input = Input(shape=(max_len, ))\n",
    "    x = Embedding(max_features, embed_size, weights=[embedding_matrix],trainable = False)(sequence_input)\n",
    "    x = SpatialDropout1D(0.2)(x) ## ostly drops the entire 1D feature map rather than individual elements.\n",
    "    x = Conv1D(64, kernel_size = 2, padding = \"valid\", kernel_initializer = \"glorot_uniform\")(x)\n",
    "    # x = Conv1D(64, kernel_size = 2, padding = \"valid\", kernel_initializer = \"glorot_uniform\")(x)\n",
    "    #x = Conv1D(16, kernel_size = 2, padding = \"valid\", kernel_initializer = \"glorot_uniform\")(x)\n",
    "    x = Bidirectional(LSTM(128, return_sequences=True,dropout=0.2,recurrent_dropout=0.1))(x)\n",
    "    avg_pool = GlobalAveragePooling1D()(x)\n",
    "    x = Dense(128,activation='relu')(avg_pool)\n",
    "    x = Dropout(0.2)(x)\n",
    "    preds = Dense(2, activation=\"softmax\")(x)\n",
    "    model = Model(sequence_input, preds)\n",
    "    # model.compile(loss='binary_crossentropy',optimizer=RMSprop(lr=1e-3),metrics=['acc'])\n",
    "    model.compile(loss='categorical_crossentropy', optimizer='adam', metrics=['accuracy'])\n",
    "\n",
    "#     model = Sequential()\n",
    "#     model.add(Embedding(input_dim=max_words, output_dim=100, input_length=max_sequence_length))\n",
    "#     model.add(SpatialDropout1D(0.2))\n",
    "#     model.add(Bidirectional(LSTM(128, return_sequences=True, dropout=0.2, recurrent_dropout=0.1)))\n",
    "#     model.add(GlobalAveragePooling1D())\n",
    "#     model.add(Dense(128, activation='relu'))\n",
    "#     model.add(Dropout(0.2))\n",
    "#     model.add(Dense(3, activation=\"softmax\"))\n",
    "\n",
    "#     # Compile the model\n",
    "#     model.compile(loss='categorical_crossentropy', optimizer='adam', metrics=['accuracy'])\n",
    "\n",
    "    # Train the model\n",
    "    epochs = 3\n",
    "    batch_size = 128\n",
    "    history = model.fit(X_train, y_train, epochs=epochs, batch_size=batch_size, validation_data=(X_val, y_val), verbose=1)\n",
    "\n",
    "    # Evaluate the model on the validation data\n",
    "    y_pred = model.predict(X_val)\n",
    "    y_pred_labels = np.argmax(y_pred, axis=1)\n",
    "    y_val_labels = np.argmax(y_val, axis=1)\n",
    "\n",
    "#     # Generate and store the classification report for this fold\n",
    "#     report = classification_report(y_val_labels, y_pred_labels, target_names=['neither', 'racist', 'sexist'])\n",
    "#     classification_reports.append(report)\n",
    "\n",
    "#     print(f'Fold {fold + 1} - Classification Report:\\n{report}\\n')\n",
    "\n",
    "# # Print the average classification report across all folds\n",
    "# average_report = '\\n'.join(classification_reports)\n",
    "# print(f'Average Classification Report Across {n_splits} Folds:\\n{average_report}')\n",
    "     # Generate the classification report for this fold\n",
    "    report = classification_report(y_val_labels, y_pred_labels, target_names=['Human', 'AI'], output_dict=True)\n",
    "\n",
    "    # Extract precision, recall, and f1-score\n",
    "    precision_list.append(report['weighted avg']['precision'])\n",
    "    recall_list.append(report['weighted avg']['recall'])\n",
    "    f1_score_list.append(report['weighted avg']['f1-score'])\n",
    "\n",
    "    print(f'Fold {fold + 1} - Classification Report:\\n{classification_report(y_val_labels, y_pred_labels, target_names=[\"Human\", \"AI\"])}\\n')\n",
    "\n",
    "# Calculate the average precision, recall, and f1-score across all folds\n",
    "average_precision = np.mean(precision_list)\n",
    "average_recall = np.mean(recall_list)\n",
    "average_f1_score = np.mean(f1_score_list)\n",
    "\n",
    "# Display the average classification report\n",
    "average_report = f'Average Precision: {average_precision:.2f}\\nAverage Recall: {average_recall:.2f}\\nAverage F1-Score: {average_f1_score:.2f}'\n",
    "print(f'Average Classification Report Across {n_splits} Folds:\\n{average_report}')"
   ]
  },
  {
   "cell_type": "markdown",
   "id": "50946551-7640-4142-ad74-56988f3d7eb0",
   "metadata": {},
   "source": [
    "save the model"
   ]
  },
  {
   "cell_type": "code",
   "execution_count": 15,
   "id": "5829676c-6c04-42e4-bb27-5f0bb04d7f0b",
   "metadata": {},
   "outputs": [],
   "source": [
    "# Save the model in the native Keras format\n",
    "model.save('/home/yadagiri/my_model.keras')\n"
   ]
  },
  {
   "cell_type": "code",
   "execution_count": 16,
   "id": "89b60dc5-6555-4bb9-a608-d0c0135103ce",
   "metadata": {},
   "outputs": [
    {
     "data": {
      "image/png": "[encoded data removed]",
      "text/plain": [
       "<Figure size 1200x400 with 2 Axes>"
      ]
     },
     "metadata": {},
     "output_type": "display_data"
    }
   ],
   "source": [
    "# Assuming you have trained your model and have a `history` object\n",
    "# after fitting the model\n",
    "\n",
    "import matplotlib.pyplot as plt\n",
    "\n",
    "# Plot accuracy and loss graphs\n",
    "plt.figure(figsize=(12, 4))\n",
    "\n",
    "# Plot accuracy\n",
    "plt.subplot(1, 2, 1)\n",
    "plt.plot(history.history['accuracy'], label='Training Accuracy')\n",
    "plt.plot(history.history['val_accuracy'], label='Validation Accuracy')\n",
    "plt.title('Model Accuracy')\n",
    "plt.xlabel('Epoch')\n",
    "plt.ylabel('Accuracy')\n",
    "plt.legend()\n",
    "\n",
    "# Plot loss\n",
    "plt.subplot(1, 2, 2)\n",
    "plt.plot(history.history['loss'], label='Training Loss')\n",
    "plt.plot(history.history['val_loss'], label='Validation Loss')\n",
    "plt.title('Model Loss')\n",
    "plt.xlabel('Epoch')\n",
    "plt.ylabel('Loss')\n",
    "plt.legend()\n",
    "\n",
    "plt.tight_layout()\n",
    "plt.show()\n"
   ]
  },
  {
   "cell_type": "raw",
   "id": "2eb36ca2-e895-4ecf-8524-e5ea976090c0",
   "metadata": {},
   "source": [
    "LOAD THE MODEL"
   ]
  },
  {
   "cell_type": "code",
   "execution_count": 18,
   "id": "9af3b05a-9ada-42be-8fe0-072fde227665",
   "metadata": {},
   "outputs": [
    {
     "data": {
      "text/plain": [
       "<keras.src.engine.functional.Functional at 0x7a1e33f8dc50>"
      ]
     },
     "execution_count": 18,
     "metadata": {},
     "output_type": "execute_result"
    }
   ],
   "source": [
    "tf.keras.models.load_model('/home/yadagiri/my_model.keras')"
   ]
  },
  {
   "cell_type": "code",
   "execution_count": 19,
   "id": "3e9a6ef4-b3fc-4373-9a1a-065196a51c39",
   "metadata": {},
   "outputs": [
    {
     "name": "stdout",
     "output_type": "stream",
     "text": [
      "Model: \"model_4\"\n",
      "_________________________________________________________________\n",
      " Layer (type)                Output Shape              Param #   \n",
      "=================================================================\n",
      " input_5 (InputLayer)        [(None, 100)]             0         \n",
      "                                                                 \n",
      " embedding_4 (Embedding)     (None, 100, 300)          1343700   \n",
      "                                                                 \n",
      " spatial_dropout1d_4 (Spati  (None, 100, 300)          0         \n",
      " alDropout1D)                                                    \n",
      "                                                                 \n",
      " conv1d_4 (Conv1D)           (None, 99, 64)            38464     \n",
      "                                                                 \n",
      " bidirectional_4 (Bidirecti  (None, 99, 256)           197632    \n",
      " onal)                                                           \n",
      "                                                                 \n",
      " global_average_pooling1d_4  (None, 256)               0         \n",
      "  (GlobalAveragePooling1D)                                       \n",
      "                                                                 \n",
      " dense_8 (Dense)             (None, 128)               32896     \n",
      "                                                                 \n",
      " dropout_4 (Dropout)         (None, 128)               0         \n",
      "                                                                 \n",
      " dense_9 (Dense)             (None, 2)                 258       \n",
      "                                                                 \n",
      "=================================================================\n",
      "Total params: 1612950 (6.15 MB)\n",
      "Trainable params: 269250 (1.03 MB)\n",
      "Non-trainable params: 1343700 (5.13 MB)\n",
      "_________________________________________________________________\n",
      "None\n"
     ]
    }
   ],
   "source": [
    "import tensorflow as tf\n",
    "\n",
    "# Load the saved model\n",
    "loaded_model = tf.keras.models.load_model('/home/yadagiri/my_model.keras')\n",
    "\n",
    "# Verify the loaded model\n",
    "print(loaded_model.summary())\n"
   ]
  },
  {
   "cell_type": "code",
   "execution_count": 20,
   "id": "1caed340-11fe-466d-8c9a-9df3996b10d8",
   "metadata": {},
   "outputs": [
    {
     "name": "stdout",
     "output_type": "stream",
     "text": [
      "F1 Score: 0.9249486768837138\n",
      "Precision: 0.9215880208085895\n",
      "Recall: 0.9331797235023042\n",
      "{'Human': {'precision': 0.5625, 'recall': 0.3287671232876712, 'f1-score': 0.414985590778098, 'support': 219.0}, 'AI': {'precision': 0.9494845360824742, 'recall': 0.9801347995743172, 'f1-score': 0.9645662419270378, 'support': 2819.0}, 'accuracy': 0.9331797235023042, 'macro avg': {'precision': 0.7559922680412371, 'recall': 0.6544509614309941, 'f1-score': 0.6897759163525679, 'support': 3038.0}, 'weighted avg': {'precision': 0.9215880208085895, 'recall': 0.9331797235023042, 'f1-score': 0.9249486768837138, 'support': 3038.0}}\n"
     ]
    }
   ],
   "source": [
    "from sklearn.metrics import classification_report, f1_score, precision_score, recall_score\n",
    "\n",
    "# Assuming you have `y_val_labels` and `y_pred_labels` as the true and predicted labels\n",
    "\n",
    "# Compute F1 score, precision, and recall\n",
    "f1 = f1_score(y_val_labels, y_pred_labels, average='weighted')\n",
    "precision = precision_score(y_val_labels, y_pred_labels, average='weighted')\n",
    "recall = recall_score(y_val_labels, y_pred_labels, average='weighted')\n",
    "\n",
    "print(f'F1 Score: {f1}')\n",
    "print(f'Precision: {precision}')\n",
    "print(f'Recall: {recall}')\n",
    "print(report)"
   ]
  },
  {
   "cell_type": "code",
   "execution_count": 21,
   "id": "3000f6a9-0db2-4a46-9030-b976e6af8dd6",
   "metadata": {},
   "outputs": [
    {
     "data": {
      "image/png": "[encoded data removed]",
      "text/plain": [
       "<Figure size 800x600 with 2 Axes>"
      ]
     },
     "metadata": {},
     "output_type": "display_data"
    }
   ],
   "source": [
    "from sklearn.metrics import confusion_matrix\n",
    "import seaborn as sns\n",
    "import matplotlib.pyplot as plt\n",
    "\n",
    "# Assuming you have true labels (y_true) and predicted labels (y_pred)\n",
    "# y_true = true_labels\n",
    "# y_pred = predicted_labels\n",
    "\n",
    "# Generate the confusion matrix\n",
    "conf_matrix = confusion_matrix(y_val_labels, y_pred_labels)\n",
    "\n",
    "# Plot the confusion matrix as a heatmap\n",
    "plt.figure(figsize=(8, 6))\n",
    "sns.heatmap(conf_matrix, annot=True, fmt='d', cmap='Blues',\n",
    "            xticklabels=['Human','Machine'],\n",
    "            yticklabels=['Human','Machine'])\n",
    "plt.xlabel('Predicted')\n",
    "plt.ylabel('True')\n",
    "plt.title('Confusion Matrix')\n",
    "plt.show()"
   ]
  },
  {
   "cell_type": "raw",
   "id": "1750d2b8-fc01-4494-b965-f62b02b3667a",
   "metadata": {},
   "source": [
    "TESTING ON UNSEEN DATA"
   ]
  },
  {
   "cell_type": "code",
   "execution_count": 22,
   "id": "f3be2062-d935-4462-aaef-8b3615899615",
   "metadata": {},
   "outputs": [],
   "source": [
    "df= pd.read_csv('/home/yadagiri/kaggletestdata.csv')"
   ]
  },
  {
   "cell_type": "code",
   "execution_count": 23,
   "id": "ce3ddb5d-1567-4952-a5f8-36a2fc8117ea",
   "metadata": {},
   "outputs": [
    {
     "data": {
      "text/html": [
       "<div>\n",
       "<style scoped>\n",
       "    .dataframe tbody tr th:only-of-type {\n",
       "        vertical-align: middle;\n",
       "    }\n",
       "\n",
       "    .dataframe tbody tr th {\n",
       "        vertical-align: top;\n",
       "    }\n",
       "\n",
       "    .dataframe thead th {\n",
       "        text-align: right;\n",
       "    }\n",
       "</style>\n",
       "<table border=\"1\" class=\"dataframe\">\n",
       "  <thead>\n",
       "    <tr style=\"text-align: right;\">\n",
       "      <th></th>\n",
       "      <th>S.no</th>\n",
       "      <th>input</th>\n",
       "      <th>output</th>\n",
       "    </tr>\n",
       "  </thead>\n",
       "  <tbody>\n",
       "    <tr>\n",
       "      <th>0</th>\n",
       "      <td>0</td>\n",
       "      <td>California is the biggest example of city plan...</td>\n",
       "      <td>1</td>\n",
       "    </tr>\n",
       "    <tr>\n",
       "      <th>1</th>\n",
       "      <td>1</td>\n",
       "      <td>A life without cars sure sounds like a great i...</td>\n",
       "      <td>0</td>\n",
       "    </tr>\n",
       "    <tr>\n",
       "      <th>2</th>\n",
       "      <td>2</td>\n",
       "      <td>Cars are used used in everyday life but they m...</td>\n",
       "      <td>0</td>\n",
       "    </tr>\n",
       "    <tr>\n",
       "      <th>3</th>\n",
       "      <td>3</td>\n",
       "      <td>The electoral collage should be disbanded. Not...</td>\n",
       "      <td>0</td>\n",
       "    </tr>\n",
       "    <tr>\n",
       "      <th>4</th>\n",
       "      <td>4</td>\n",
       "      <td>Dear Mr.Mrs. Senator, The Electoral College is...</td>\n",
       "      <td>0</td>\n",
       "    </tr>\n",
       "    <tr>\n",
       "      <th>...</th>\n",
       "      <td>...</td>\n",
       "      <td>...</td>\n",
       "      <td>...</td>\n",
       "    </tr>\n",
       "    <tr>\n",
       "      <th>2489</th>\n",
       "      <td>2489</td>\n",
       "      <td>Dear Florida senator, It is in the interest of...</td>\n",
       "      <td>0</td>\n",
       "    </tr>\n",
       "    <tr>\n",
       "      <th>2490</th>\n",
       "      <td>2490</td>\n",
       "      <td>Driving can be a huge hassle. Having to spend ...</td>\n",
       "      <td>0</td>\n",
       "    </tr>\n",
       "    <tr>\n",
       "      <th>2491</th>\n",
       "      <td>2491</td>\n",
       "      <td>Dear\\nSenator,\\n\\nI am writing to express my o...</td>\n",
       "      <td>1</td>\n",
       "    </tr>\n",
       "    <tr>\n",
       "      <th>2492</th>\n",
       "      <td>2492</td>\n",
       "      <td>The electoral college is pointless, I believe ...</td>\n",
       "      <td>0</td>\n",
       "    </tr>\n",
       "    <tr>\n",
       "      <th>2493</th>\n",
       "      <td>2493</td>\n",
       "      <td>Although the usage of motorized vehicles such ...</td>\n",
       "      <td>0</td>\n",
       "    </tr>\n",
       "  </tbody>\n",
       "</table>\n",
       "<p>2494 rows × 3 columns</p>\n",
       "</div>"
      ],
      "text/plain": [
       "      S.no                                              input  output\n",
       "0        0  California is the biggest example of city plan...       1\n",
       "1        1  A life without cars sure sounds like a great i...       0\n",
       "2        2  Cars are used used in everyday life but they m...       0\n",
       "3        3  The electoral collage should be disbanded. Not...       0\n",
       "4        4  Dear Mr.Mrs. Senator, The Electoral College is...       0\n",
       "...    ...                                                ...     ...\n",
       "2489  2489  Dear Florida senator, It is in the interest of...       0\n",
       "2490  2490  Driving can be a huge hassle. Having to spend ...       0\n",
       "2491  2491  Dear\\nSenator,\\n\\nI am writing to express my o...       1\n",
       "2492  2492  The electoral college is pointless, I believe ...       0\n",
       "2493  2493  Although the usage of motorized vehicles such ...       0\n",
       "\n",
       "[2494 rows x 3 columns]"
      ]
     },
     "execution_count": 23,
     "metadata": {},
     "output_type": "execute_result"
    }
   ],
   "source": [
    "df"
   ]
  },
  {
   "cell_type": "code",
   "execution_count": 24,
   "id": "3b9aae67-f2da-4bfc-89b2-43d470c01e87",
   "metadata": {},
   "outputs": [],
   "source": [
    "df = df.rename(columns={'input': 'text'})"
   ]
  },
  {
   "cell_type": "code",
   "execution_count": 25,
   "id": "ebd57576-7561-4a95-8528-74ac11eb07f8",
   "metadata": {},
   "outputs": [],
   "source": [
    "######## Textual Features for Embedding ###################\n",
    "\n",
    "sequence = tokenizer.texts_to_sequences(df.text)\n",
    "sequence = pad_sequences(sequence, padding='post', maxlen=max_len)"
   ]
  },
  {
   "cell_type": "code",
   "execution_count": 26,
   "id": "827e2141-fccd-4eae-a3f5-1c5845eec300",
   "metadata": {},
   "outputs": [
    {
     "name": "stdout",
     "output_type": "stream",
     "text": [
      "78/78 [==============================] - 1s 18ms/step\n"
     ]
    }
   ],
   "source": [
    "sequence = tokenizer.texts_to_sequences(df['text']) # same tokenizer which is used on train data.\n",
    "sequence = pad_sequences(sequence,padding='post', maxlen = max_len)\n",
    "\n",
    "predictions = model.predict(sequence)\n",
    "classes=np.argmax(predictions,axis=1)"
   ]
  },
  {
   "cell_type": "code",
   "execution_count": 27,
   "id": "fed48d36-d663-424b-8bf4-0012c75a9bb7",
   "metadata": {},
   "outputs": [
    {
     "data": {
      "text/plain": [
       "array([[0.33195564, 0.6680444 ],\n",
       "       [0.29971334, 0.7002867 ],\n",
       "       [0.73517114, 0.26482883],\n",
       "       ...,\n",
       "       [0.6612322 , 0.3387679 ],\n",
       "       [0.7649733 , 0.23502678],\n",
       "       [0.21918133, 0.78081864]], dtype=float32)"
      ]
     },
     "execution_count": 27,
     "metadata": {},
     "output_type": "execute_result"
    }
   ],
   "source": [
    "predictions"
   ]
  },
  {
   "cell_type": "code",
   "execution_count": 28,
   "id": "7bbdae10-e413-49c0-9191-aac8cc9d8bca",
   "metadata": {},
   "outputs": [
    {
     "name": "stderr",
     "output_type": "stream",
     "text": [
      "/home/yadagiri/anaconda3/lib/python3.11/site-packages/sklearn/preprocessing/_label.py:114: DataConversionWarning: A column-vector y was passed when a 1d array was expected. Please change the shape of y to (n_samples, ), for example using ravel().\n",
      "  y = column_or_1d(y, warn=True)\n"
     ]
    },
    {
     "data": {
      "text/plain": [
       "array([[0., 1.],\n",
       "       [1., 0.],\n",
       "       [1., 0.],\n",
       "       ...,\n",
       "       [0., 1.],\n",
       "       [1., 0.],\n",
       "       [1., 0.]], dtype=float32)"
      ]
     },
     "execution_count": 28,
     "metadata": {},
     "output_type": "execute_result"
    }
   ],
   "source": [
    "df= pd.read_csv('/home/yadagiri/kaggletestdata.csv')\n",
    "y_data = df[df.columns[2:3]]\n",
    "y = y_data.values\n",
    "######### Label Encoding for y_train & y_test################\n",
    "from sklearn.preprocessing import LabelEncoder\n",
    "\n",
    "label_encoder = LabelEncoder()\n",
    "y_encoded = label_encoder.fit_transform(y)\n",
    "\n",
    "from keras.utils import to_categorical\n",
    "y_test_one_hot = to_categorical(y_encoded, num_classes=2)\n",
    "y_test_one_hot"
   ]
  },
  {
   "cell_type": "code",
   "execution_count": 29,
   "id": "497eedc1-52e2-4257-9a9f-f9ae24549f23",
   "metadata": {},
   "outputs": [
    {
     "name": "stdout",
     "output_type": "stream",
     "text": [
      "F1 Score: 0.9249486768837138\n",
      "Precision: 0.9215880208085895\n",
      "Recall: 0.9331797235023042\n",
      "              precision    recall  f1-score   support\n",
      "\n",
      "           0       0.65      0.93      0.76      1375\n",
      "           1       0.80      0.38      0.51      1119\n",
      "\n",
      "    accuracy                           0.68      2494\n",
      "   macro avg       0.73      0.65      0.64      2494\n",
      "weighted avg       0.72      0.68      0.65      2494\n",
      "\n"
     ]
    }
   ],
   "source": [
    "from sklearn.metrics import classification_report\n",
    "\n",
    "# Convert one-hot encoded labels to discrete class labels\n",
    "y_true = np.argmax(y_test_one_hot, axis=1)  # Assuming y_test_one_hot is a NumPy array\n",
    "\n",
    "# Convert continuous predictions to discrete class labels\n",
    "y_pred_discrete = np.argmax(predictions, axis=1)  # Assuming y_pred is a NumPy array\n",
    "\n",
    "# Generate the classification report\n",
    "report = classification_report(y_true, y_pred_discrete)\n",
    "\n",
    "# Print the classification report\n",
    "print(f'F1 Score: {f1}')\n",
    "print(f'Precision: {precision}')\n",
    "print(f'Recall: {recall}')\n",
    "print(report)\n"
   ]
  },
  {
   "cell_type": "code",
   "execution_count": 30,
   "id": "8f629eac-7b08-42cc-99ef-57de21411bcd",
   "metadata": {},
   "outputs": [
    {
     "data": {
      "image/png": "[encoded data removed]",
      "text/plain": [
       "<Figure size 800x600 with 2 Axes>"
      ]
     },
     "metadata": {},
     "output_type": "display_data"
    }
   ],
   "source": [
    "from sklearn.metrics import confusion_matrix\n",
    "import seaborn as sns\n",
    "import matplotlib.pyplot as plt\n",
    "\n",
    "# Assuming you have true labels (y_true) and predicted labels (y_pred)\n",
    "# y_true = true_labels\n",
    "# y_pred = predicted_labels\n",
    "\n",
    "# Generate the confusion matrix\n",
    "conf_matrix = confusion_matrix(y_true, y_pred_discrete)\n",
    "\n",
    "# Plot the confusion matrix as a heatmap\n",
    "plt.figure(figsize=(8, 6))\n",
    "sns.heatmap(conf_matrix, annot=True, fmt='d', cmap='Blues',\n",
    "            xticklabels=['Human','AI'],\n",
    "            yticklabels=['Human','AI'])\n",
    "plt.xlabel('Predicted')\n",
    "plt.ylabel('True')\n",
    "plt.title('Confusion Matrix')\n",
    "plt.show()"
   ]
  }
 ],
 "metadata": {
  "kernelspec": {
   "display_name": "Python 3 (ipykernel)",
   "language": "python",
   "name": "python3"
  },
  "language_info": {
   "codemirror_mode": {
    "name": "ipython",
    "version": 3
   },
   "file_extension": ".py",
   "mimetype": "text/x-python",
   "name": "python",
   "nbconvert_exporter": "python",
   "pygments_lexer": "ipython3",
   "version": "3.11.5"
  }
 },
 "nbformat": 4,
 "nbformat_minor": 5
}
